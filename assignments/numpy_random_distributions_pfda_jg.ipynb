{
 "cells": [
  {
   "cell_type": "code",
   "execution_count": null,
   "id": "9de1ba64",
   "metadata": {},
   "outputs": [],
   "source": [
    "import numpy as np\n",
    "import random\n",
    "np.random.permutation(10)\n",
    "# the permutation() function takes a number to print an array with a number of permuted random integers"
   ]
  },
  {
   "cell_type": "code",
   "execution_count": null,
   "id": "2fb81f9a",
   "metadata": {},
   "outputs": [],
   "source": [
    "import numpy as np\n",
    "import random\n",
    "np.random.randint(1,100)\n",
    "# the randint() function takes a low and high number as the range, printing a single random number."
   ]
  },
  {
   "cell_type": "code",
   "execution_count": null,
   "id": "a1b743c1",
   "metadata": {},
   "outputs": [],
   "source": [
    "import numpy as np\n",
    "import random\n",
    "np.random.randint(1,100,(5,5))\n",
    "# the randint() function takes a low and high number as the range,\n",
    "# printing a set number of instances along with a set number of random integers per instance."
   ]
  },
  {
   "cell_type": "code",
   "execution_count": null,
   "id": "a3f5ff81",
   "metadata": {},
   "outputs": [],
   "source": [
    "import numpy as np\n",
    "import random\n",
    "frtedraffle = [1,3,7,11,62,89,123,151,2000] # an array of non-random integers\n",
    "np.random.choice(frtedraffle)\n",
    "# the choice() function chooses & prints a random integer from the raffle array"
   ]
  },
  {
   "cell_type": "code",
   "execution_count": null,
   "id": "02e1b821",
   "metadata": {},
   "outputs": [],
   "source": [
    "import numpy as np\n",
    "import random\n",
    "album = [1,2,3,4,5,6,7,8,9,10,11,12,13] # an array of non-random integers\n",
    "np.random.shuffle(album)\n",
    "print(album)\n",
    "# the shuffle() function will shuffle the contents of the album array"
   ]
  },
  {
   "cell_type": "code",
   "execution_count": null,
   "id": "68493b5a",
   "metadata": {},
   "outputs": [],
   "source": [
    "import numpy as np\n",
    "import random\n",
    "np.random.randn(1,3,5) # the low and high values are set, plus the size of the random array\n",
    "# the randn() function prints the random array with normal distribution"
   ]
  },
  {
   "cell_type": "code",
   "execution_count": null,
   "id": "18aa7e3e",
   "metadata": {},
   "outputs": [],
   "source": [
    "import numpy as np\n",
    "import random\n",
    "np.random.uniform(1,3,5) # the low and high values are set, plus the size of the random array\n",
    "# the uniform() function prints the random array with uniform distribution"
   ]
  },
  {
   "cell_type": "code",
   "execution_count": null,
   "id": "129f8fd4",
   "metadata": {},
   "outputs": [],
   "source": [
    "import numpy as np\n",
    "import random\n",
    "np.random.seed(0) # the seed offers input to the randint() function \n",
    "np.random.randint(5,10) # pseudo-random numbers are displayed and repeatable due to the seed() function "
   ]
  }
 ],
 "metadata": {
  "kernelspec": {
   "display_name": "Python 3",
   "language": "python",
   "name": "python3"
  },
  "language_info": {
   "codemirror_mode": {
    "name": "ipython",
    "version": 3
   },
   "file_extension": ".py",
   "mimetype": "text/x-python",
   "name": "python",
   "nbconvert_exporter": "python",
   "pygments_lexer": "ipython3",
   "version": "3.8.8"
  }
 },
 "nbformat": 4,
 "nbformat_minor": 5
}
