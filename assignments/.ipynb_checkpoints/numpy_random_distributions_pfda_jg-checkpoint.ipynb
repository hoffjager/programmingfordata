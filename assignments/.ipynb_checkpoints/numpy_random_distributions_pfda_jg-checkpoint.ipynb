{
 "cells": [
  {
   "cell_type": "code",
   "execution_count": null,
   "id": "9de1ba64",
   "metadata": {},
   "outputs": [],
   "source": [
    "import numpy as np\n",
    "import random\n",
    "rng = np.random.permutation(10) # function takes a number and prints an array with a number of random integers\n",
    "print(rng) # prints the function"
   ]
  },
  {
   "cell_type": "code",
   "execution_count": null,
   "id": "2fb81f9a",
   "metadata": {},
   "outputs": [],
   "source": [
    "import numpy as np\n",
    "import random\n",
    "rannum = np.random.randint(1,100) # the function takes a low and high number as the range\n",
    "print(rannum) # print the resulting random number from the function"
   ]
  },
  {
   "cell_type": "code",
   "execution_count": null,
   "id": "a1b743c1",
   "metadata": {},
   "outputs": [],
   "source": [
    "import numpy as np\n",
    "import random\n",
    "np.random.randint(1,100,(5,5)) # the function takes a low and high number and prints random integers within the range, with number of instances and how many random integers each instance will contain."
   ]
  },
  {
   "cell_type": "code",
   "execution_count": null,
   "id": "a3f5ff81",
   "metadata": {},
   "outputs": [],
   "source": [
    "import numpy as np\n",
    "import random\n",
    "frtedraffle = [1,3,7,11,62,89,123,151,2000] # an array of ordered integers\n",
    "np.random.choice(frtedraffle) # the function chooses & prints a random integer from the array"
   ]
  },
  {
   "cell_type": "code",
   "execution_count": null,
   "id": "02e1b821",
   "metadata": {},
   "outputs": [],
   "source": [
    "import numpy as np\n",
    "import random\n",
    "album = [1,2,3,4,5,6,7,8,9,10,11,12,13] # an array of ordered integers\n",
    "np.random.shuffle(album) # the function will shuffle the contents of the array\n",
    "print(album) # print the shuffled array"
   ]
  },
  {
   "cell_type": "code",
   "execution_count": null,
   "id": "68493b5a",
   "metadata": {},
   "outputs": [],
   "source": [
    "import numpy as np\n",
    "import random\n",
    "ran_num = np.random.randn(5)\n",
    "print(ran_num) # print the random array"
   ]
  },
  {
   "cell_type": "code",
   "execution_count": 1,
   "id": "18aa7e3e",
   "metadata": {},
   "outputs": [
    {
     "name": "stdout",
     "output_type": "stream",
     "text": [
      "[2.11035956 1.61849052 1.27375808 2.6478787  1.98617248]\n"
     ]
    }
   ],
   "source": [
    "import numpy as np\n",
    "import random\n",
    "uni_num = np.random.uniform(1,3,5) # the low and high values set, plus the size of the random array\n",
    "print(uni_num) # print the random array"
   ]
  },
  {
   "cell_type": "code",
   "execution_count": 10,
   "id": "129f8fd4",
   "metadata": {},
   "outputs": [
    {
     "data": {
      "text/plain": [
       "9"
      ]
     },
     "execution_count": 10,
     "metadata": {},
     "output_type": "execute_result"
    }
   ],
   "source": [
    "import numpy as np\n",
    "import random\n",
    "np.random.seed(0)\n",
    "np.random.randint(5,10)"
   ]
  }
 ],
 "metadata": {
  "kernelspec": {
   "display_name": "Python 3",
   "language": "python",
   "name": "python3"
  },
  "language_info": {
   "codemirror_mode": {
    "name": "ipython",
    "version": 3
   },
   "file_extension": ".py",
   "mimetype": "text/x-python",
   "name": "python",
   "nbconvert_exporter": "python",
   "pygments_lexer": "ipython3",
   "version": "3.8.8"
  }
 },
 "nbformat": 4,
 "nbformat_minor": 5
}
