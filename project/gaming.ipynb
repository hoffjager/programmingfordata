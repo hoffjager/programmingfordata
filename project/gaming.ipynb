{
 "cells": [
  {
   "cell_type": "code",
   "execution_count": null,
   "id": "49589837",
   "metadata": {},
   "outputs": [],
   "source": [
    "# importing Python libraries\n",
    "import numpy as np\n",
    "import pandas as pd                 # used for dataframes\n",
    "import matplotlib.pyplot as plt     # used for plotting data\n",
    "import seaborn as sns               # used for more stylish plots\n",
    "import scipy.stats as stats\n",
    "import sklearn as sk\n",
    "from sklearn.impute import SimpleImputer\n",
    "\n",
    "# the inline command allows use of matplotlib in Jupyter\n",
    "%matplotlib inline"
   ]
  },
  {
   "cell_type": "code",
   "execution_count": null,
   "id": "5c30ba0e",
   "metadata": {},
   "outputs": [],
   "source": [
    "# reading in the csv file and display only the first 5 columns of relevant data\n",
    "df = pd.read_csv('data/videogames.csv')\n",
    "df = df[['Game', 'Price', 'Paid', 'Savings', 'Compatibility']]\n",
    "print(df)"
   ]
  },
  {
   "cell_type": "code",
   "execution_count": null,
   "id": "f3c9f9ca",
   "metadata": {},
   "outputs": [],
   "source": [
    "# info() function is used to display basic info about the dataset\n",
    "df.info(['Game', 'Price', 'Paid', 'Savings', 'Compatibility'])"
   ]
  },
  {
   "cell_type": "code",
   "execution_count": null,
   "id": "760eae6d",
   "metadata": {},
   "outputs": [],
   "source": []
  }
 ],
 "metadata": {
  "kernelspec": {
   "display_name": "Python 3",
   "language": "python",
   "name": "python3"
  },
  "language_info": {
   "codemirror_mode": {
    "name": "ipython",
    "version": 3
   },
   "file_extension": ".py",
   "mimetype": "text/x-python",
   "name": "python",
   "nbconvert_exporter": "python",
   "pygments_lexer": "ipython3",
   "version": "3.8.8"
  }
 },
 "nbformat": 4,
 "nbformat_minor": 5
}
